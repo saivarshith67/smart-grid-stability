{
 "cells": [
  {
   "cell_type": "markdown",
   "id": "489eef00",
   "metadata": {},
   "source": [
    "<h1>Smart Grid Stability Prediction </h1>"
   ]
  },
  {
   "cell_type": "code",
   "execution_count": 1,
   "id": "97faaca6",
   "metadata": {
    "_cell_guid": "b1076dfc-b9ad-4769-8c92-a6c4dae69d19",
    "_uuid": "8f2839f25d086af736a60e9eeb907d3b93b6e0e5",
    "execution": {
     "iopub.execute_input": "2024-12-05T09:01:56.906189Z",
     "iopub.status.busy": "2024-12-05T09:01:56.905792Z",
     "iopub.status.idle": "2024-12-05T09:01:59.681361Z",
     "shell.execute_reply": "2024-12-05T09:01:59.680041Z"
    },
    "papermill": {
     "duration": 2.784333,
     "end_time": "2024-12-05T09:01:59.684141",
     "exception": false,
     "start_time": "2024-12-05T09:01:56.899808",
     "status": "completed"
    },
    "tags": []
   },
   "outputs": [],
   "source": [
    "# importing library\n",
    "import numpy as np\n",
    "import matplotlib.pyplot as plt\n",
    "import seaborn as sns\n",
    "import pandas as pd\n",
    "from sklearn.model_selection import train_test_split\n",
    "from xgboost import XGBClassifier, XGBRegressor\n",
    "from sklearn.tree import DecisionTreeClassifier, DecisionTreeRegressor\n",
    "from sklearn.svm import SVC, SVR\n",
    "from sklearn.metrics import root_mean_squared_error, mean_absolute_error, confusion_matrix, precision_score, recall_score, fbeta_score"
   ]
  },
  {
   "cell_type": "markdown",
   "id": "84f905e8",
   "metadata": {},
   "source": [
    "<h2>Exploratory Data Analysis </h2>"
   ]
  },
  {
   "cell_type": "code",
   "execution_count": 2,
   "id": "023f4a66",
   "metadata": {
    "execution": {
     "iopub.execute_input": "2024-12-05T09:01:59.694724Z",
     "iopub.status.busy": "2024-12-05T09:01:59.693383Z",
     "iopub.status.idle": "2024-12-05T09:02:00.256832Z",
     "shell.execute_reply": "2024-12-05T09:02:00.255658Z"
    },
    "papermill": {
     "duration": 0.570943,
     "end_time": "2024-12-05T09:02:00.259280",
     "exception": false,
     "start_time": "2024-12-05T09:01:59.688337",
     "status": "completed"
    },
    "tags": []
   },
   "outputs": [],
   "source": [
    "# loading the dataset\n",
    "# file_path = \"/kaggle/input/smart-grid-stability/smart_grid_stability_augmented.csv\"\n",
    "file_path = \"smart_grid_stability_augmented.csv\"\n",
    "df = pd.read_csv(file_path)"
   ]
  },
  {
   "cell_type": "code",
   "execution_count": 3,
   "id": "e9ce3051",
   "metadata": {
    "execution": {
     "iopub.execute_input": "2024-12-05T09:02:00.270020Z",
     "iopub.status.busy": "2024-12-05T09:02:00.269614Z",
     "iopub.status.idle": "2024-12-05T09:02:00.301704Z",
     "shell.execute_reply": "2024-12-05T09:02:00.300643Z"
    },
    "papermill": {
     "duration": 0.040085,
     "end_time": "2024-12-05T09:02:00.304239",
     "exception": false,
     "start_time": "2024-12-05T09:02:00.264154",
     "status": "completed"
    },
    "tags": []
   },
   "outputs": [
    {
     "name": "stdout",
     "output_type": "stream",
     "text": [
      "<class 'pandas.core.frame.DataFrame'>\n",
      "RangeIndex: 60000 entries, 0 to 59999\n",
      "Data columns (total 14 columns):\n",
      " #   Column  Non-Null Count  Dtype  \n",
      "---  ------  --------------  -----  \n",
      " 0   tau1    60000 non-null  float64\n",
      " 1   tau2    60000 non-null  float64\n",
      " 2   tau3    60000 non-null  float64\n",
      " 3   tau4    60000 non-null  float64\n",
      " 4   p1      60000 non-null  float64\n",
      " 5   p2      60000 non-null  float64\n",
      " 6   p3      60000 non-null  float64\n",
      " 7   p4      60000 non-null  float64\n",
      " 8   g1      60000 non-null  float64\n",
      " 9   g2      60000 non-null  float64\n",
      " 10  g3      60000 non-null  float64\n",
      " 11  g4      60000 non-null  float64\n",
      " 12  stab    60000 non-null  float64\n",
      " 13  stabf   60000 non-null  object \n",
      "dtypes: float64(13), object(1)\n",
      "memory usage: 6.4+ MB\n"
     ]
    }
   ],
   "source": [
    "# getting preliminary information\n",
    "df.info()"
   ]
  },
  {
   "cell_type": "code",
   "execution_count": 4,
   "id": "f9779f4c",
   "metadata": {},
   "outputs": [
    {
     "data": {
      "text/plain": [
       "tau1     0\n",
       "tau2     0\n",
       "tau3     0\n",
       "tau4     0\n",
       "p1       0\n",
       "p2       0\n",
       "p3       0\n",
       "p4       0\n",
       "g1       0\n",
       "g2       0\n",
       "g3       0\n",
       "g4       0\n",
       "stab     0\n",
       "stabf    0\n",
       "dtype: int64"
      ]
     },
     "execution_count": 4,
     "metadata": {},
     "output_type": "execute_result"
    }
   ],
   "source": [
    "# check for null values\n",
    "df.isnull().sum()"
   ]
  },
  {
   "cell_type": "code",
   "execution_count": 5,
   "id": "3c135ae5",
   "metadata": {},
   "outputs": [
    {
     "data": {
      "text/plain": [
       "['tau1',\n",
       " 'tau2',\n",
       " 'tau3',\n",
       " 'tau4',\n",
       " 'p1',\n",
       " 'p2',\n",
       " 'p3',\n",
       " 'p4',\n",
       " 'g1',\n",
       " 'g2',\n",
       " 'g3',\n",
       " 'g4',\n",
       " 'stab',\n",
       " 'stabf']"
      ]
     },
     "execution_count": 5,
     "metadata": {},
     "output_type": "execute_result"
    }
   ],
   "source": [
    "df.columns.to_list()"
   ]
  },
  {
   "cell_type": "code",
   "execution_count": 6,
   "id": "7840c449",
   "metadata": {},
   "outputs": [],
   "source": [
    "columns = df.columns.to_list()\n",
    "numerical_columns = columns[:-1]\n",
    "categorical_columns = columns[-1]\n",
    "\n"
   ]
  },
  {
   "cell_type": "markdown",
   "id": "3012fdc2",
   "metadata": {
    "papermill": {
     "duration": 0.004013,
     "end_time": "2024-12-05T09:02:00.312732",
     "exception": false,
     "start_time": "2024-12-05T09:02:00.308719",
     "status": "completed"
    },
    "tags": []
   },
   "source": [
    "<h2>Preprocessing the data</h2>"
   ]
  },
  {
   "cell_type": "code",
   "execution_count": 7,
   "id": "1bf151b7",
   "metadata": {
    "execution": {
     "iopub.execute_input": "2024-12-05T09:02:00.323037Z",
     "iopub.status.busy": "2024-12-05T09:02:00.322635Z",
     "iopub.status.idle": "2024-12-05T09:02:00.330218Z",
     "shell.execute_reply": "2024-12-05T09:02:00.329048Z"
    },
    "papermill": {
     "duration": 0.015521,
     "end_time": "2024-12-05T09:02:00.332552",
     "exception": false,
     "start_time": "2024-12-05T09:02:00.317031",
     "status": "completed"
    },
    "tags": []
   },
   "outputs": [],
   "source": [
    "def replace_labels(x: str):\n",
    "    if x == \"unstable\":\n",
    "        return 0\n",
    "    else:\n",
    "        return 1\n",
    "\n",
    "\n",
    "def preprocess_inputs(df, task=\"classification\"):\n",
    "    df = df.copy()\n",
    "    if task == \"classification\":\n",
    "        df = df.drop(\"stab\", axis=1)\n",
    "        y = df[\"stabf\"].apply(replace_labels)\n",
    "        x = df.drop(\"stabf\", axis=1).copy()\n",
    "    elif task == \"regression\":\n",
    "        df = df.drop(\"stabf\", axis=1)\n",
    "        y = df[\"stab\"]\n",
    "        x = df.drop(\"stab\", axis=1).copy()\n",
    "    x_train, x_test, y_train, y_test = train_test_split(\n",
    "        x, y, train_size=0.7, shuffle=True, random_state=123\n",
    "    )\n",
    "    return x_train, x_test, y_train, y_test"
   ]
  },
  {
   "cell_type": "code",
   "execution_count": 8,
   "id": "ca1eb663",
   "metadata": {
    "execution": {
     "iopub.execute_input": "2024-12-05T09:02:00.343060Z",
     "iopub.status.busy": "2024-12-05T09:02:00.342661Z",
     "iopub.status.idle": "2024-12-05T09:02:00.411632Z",
     "shell.execute_reply": "2024-12-05T09:02:00.410272Z"
    },
    "papermill": {
     "duration": 0.076969,
     "end_time": "2024-12-05T09:02:00.413937",
     "exception": false,
     "start_time": "2024-12-05T09:02:00.336968",
     "status": "completed"
    },
    "tags": []
   },
   "outputs": [
    {
     "data": {
      "text/html": [
       "<div>\n",
       "<style scoped>\n",
       "    .dataframe tbody tr th:only-of-type {\n",
       "        vertical-align: middle;\n",
       "    }\n",
       "\n",
       "    .dataframe tbody tr th {\n",
       "        vertical-align: top;\n",
       "    }\n",
       "\n",
       "    .dataframe thead th {\n",
       "        text-align: right;\n",
       "    }\n",
       "</style>\n",
       "<table border=\"1\" class=\"dataframe\">\n",
       "  <thead>\n",
       "    <tr style=\"text-align: right;\">\n",
       "      <th></th>\n",
       "      <th>tau1</th>\n",
       "      <th>tau2</th>\n",
       "      <th>tau3</th>\n",
       "      <th>tau4</th>\n",
       "      <th>p1</th>\n",
       "      <th>p2</th>\n",
       "      <th>p3</th>\n",
       "      <th>p4</th>\n",
       "      <th>g1</th>\n",
       "      <th>g2</th>\n",
       "      <th>g3</th>\n",
       "      <th>g4</th>\n",
       "    </tr>\n",
       "  </thead>\n",
       "  <tbody>\n",
       "    <tr>\n",
       "      <th>50049</th>\n",
       "      <td>9.818128</td>\n",
       "      <td>8.588987</td>\n",
       "      <td>0.511597</td>\n",
       "      <td>5.260072</td>\n",
       "      <td>3.395636</td>\n",
       "      <td>-1.478677</td>\n",
       "      <td>-1.107857</td>\n",
       "      <td>-0.809102</td>\n",
       "      <td>0.931287</td>\n",
       "      <td>0.291643</td>\n",
       "      <td>0.599963</td>\n",
       "      <td>0.384295</td>\n",
       "    </tr>\n",
       "    <tr>\n",
       "      <th>42117</th>\n",
       "      <td>2.988689</td>\n",
       "      <td>0.532388</td>\n",
       "      <td>1.456258</td>\n",
       "      <td>9.804672</td>\n",
       "      <td>4.992851</td>\n",
       "      <td>-1.899322</td>\n",
       "      <td>-1.336375</td>\n",
       "      <td>-1.757154</td>\n",
       "      <td>0.945929</td>\n",
       "      <td>0.407395</td>\n",
       "      <td>0.236469</td>\n",
       "      <td>0.947458</td>\n",
       "    </tr>\n",
       "    <tr>\n",
       "      <th>20378</th>\n",
       "      <td>5.936029</td>\n",
       "      <td>9.336081</td>\n",
       "      <td>1.988640</td>\n",
       "      <td>1.907732</td>\n",
       "      <td>4.433782</td>\n",
       "      <td>-1.324150</td>\n",
       "      <td>-1.417504</td>\n",
       "      <td>-1.692128</td>\n",
       "      <td>0.452766</td>\n",
       "      <td>0.882208</td>\n",
       "      <td>0.159555</td>\n",
       "      <td>0.243988</td>\n",
       "    </tr>\n",
       "    <tr>\n",
       "      <th>17121</th>\n",
       "      <td>5.001385</td>\n",
       "      <td>3.720948</td>\n",
       "      <td>3.111653</td>\n",
       "      <td>8.465773</td>\n",
       "      <td>3.239639</td>\n",
       "      <td>-0.903370</td>\n",
       "      <td>-0.836304</td>\n",
       "      <td>-1.499965</td>\n",
       "      <td>0.129207</td>\n",
       "      <td>0.500248</td>\n",
       "      <td>0.863418</td>\n",
       "      <td>0.075551</td>\n",
       "    </tr>\n",
       "    <tr>\n",
       "      <th>22484</th>\n",
       "      <td>2.284157</td>\n",
       "      <td>4.881570</td>\n",
       "      <td>5.095673</td>\n",
       "      <td>8.647201</td>\n",
       "      <td>3.375693</td>\n",
       "      <td>-1.920184</td>\n",
       "      <td>-0.630081</td>\n",
       "      <td>-0.825428</td>\n",
       "      <td>0.477917</td>\n",
       "      <td>0.446620</td>\n",
       "      <td>0.773091</td>\n",
       "      <td>0.424167</td>\n",
       "    </tr>\n",
       "    <tr>\n",
       "      <th>...</th>\n",
       "      <td>...</td>\n",
       "      <td>...</td>\n",
       "      <td>...</td>\n",
       "      <td>...</td>\n",
       "      <td>...</td>\n",
       "      <td>...</td>\n",
       "      <td>...</td>\n",
       "      <td>...</td>\n",
       "      <td>...</td>\n",
       "      <td>...</td>\n",
       "      <td>...</td>\n",
       "      <td>...</td>\n",
       "    </tr>\n",
       "    <tr>\n",
       "      <th>54370</th>\n",
       "      <td>5.701267</td>\n",
       "      <td>6.684273</td>\n",
       "      <td>9.601239</td>\n",
       "      <td>1.441566</td>\n",
       "      <td>2.855926</td>\n",
       "      <td>-0.966439</td>\n",
       "      <td>-0.772487</td>\n",
       "      <td>-1.117001</td>\n",
       "      <td>0.767515</td>\n",
       "      <td>0.141450</td>\n",
       "      <td>0.825274</td>\n",
       "      <td>0.681713</td>\n",
       "    </tr>\n",
       "    <tr>\n",
       "      <th>17730</th>\n",
       "      <td>6.962724</td>\n",
       "      <td>5.720939</td>\n",
       "      <td>3.331487</td>\n",
       "      <td>3.904860</td>\n",
       "      <td>4.653462</td>\n",
       "      <td>-1.254036</td>\n",
       "      <td>-1.608298</td>\n",
       "      <td>-1.791128</td>\n",
       "      <td>0.207566</td>\n",
       "      <td>0.925921</td>\n",
       "      <td>0.999739</td>\n",
       "      <td>0.635747</td>\n",
       "    </tr>\n",
       "    <tr>\n",
       "      <th>28030</th>\n",
       "      <td>6.763179</td>\n",
       "      <td>4.443784</td>\n",
       "      <td>5.772680</td>\n",
       "      <td>8.344345</td>\n",
       "      <td>4.390494</td>\n",
       "      <td>-1.586663</td>\n",
       "      <td>-0.817729</td>\n",
       "      <td>-1.986103</td>\n",
       "      <td>0.449443</td>\n",
       "      <td>0.276032</td>\n",
       "      <td>0.990190</td>\n",
       "      <td>0.785749</td>\n",
       "    </tr>\n",
       "    <tr>\n",
       "      <th>15725</th>\n",
       "      <td>4.542570</td>\n",
       "      <td>5.302279</td>\n",
       "      <td>1.487013</td>\n",
       "      <td>6.115917</td>\n",
       "      <td>3.317675</td>\n",
       "      <td>-1.656348</td>\n",
       "      <td>-0.568968</td>\n",
       "      <td>-1.092359</td>\n",
       "      <td>0.279099</td>\n",
       "      <td>0.486512</td>\n",
       "      <td>0.411925</td>\n",
       "      <td>0.963123</td>\n",
       "    </tr>\n",
       "    <tr>\n",
       "      <th>52734</th>\n",
       "      <td>6.584278</td>\n",
       "      <td>3.415270</td>\n",
       "      <td>2.606602</td>\n",
       "      <td>5.865312</td>\n",
       "      <td>3.537674</td>\n",
       "      <td>-1.100446</td>\n",
       "      <td>-0.595687</td>\n",
       "      <td>-1.841542</td>\n",
       "      <td>0.248848</td>\n",
       "      <td>0.808913</td>\n",
       "      <td>0.444905</td>\n",
       "      <td>0.605348</td>\n",
       "    </tr>\n",
       "  </tbody>\n",
       "</table>\n",
       "<p>42000 rows × 12 columns</p>\n",
       "</div>"
      ],
      "text/plain": [
       "           tau1      tau2      tau3  ...        g2        g3        g4\n",
       "50049  9.818128  8.588987  0.511597  ...  0.291643  0.599963  0.384295\n",
       "42117  2.988689  0.532388  1.456258  ...  0.407395  0.236469  0.947458\n",
       "20378  5.936029  9.336081  1.988640  ...  0.882208  0.159555  0.243988\n",
       "17121  5.001385  3.720948  3.111653  ...  0.500248  0.863418  0.075551\n",
       "22484  2.284157  4.881570  5.095673  ...  0.446620  0.773091  0.424167\n",
       "...         ...       ...       ...  ...       ...       ...       ...\n",
       "54370  5.701267  6.684273  9.601239  ...  0.141450  0.825274  0.681713\n",
       "17730  6.962724  5.720939  3.331487  ...  0.925921  0.999739  0.635747\n",
       "28030  6.763179  4.443784  5.772680  ...  0.276032  0.990190  0.785749\n",
       "15725  4.542570  5.302279  1.487013  ...  0.486512  0.411925  0.963123\n",
       "52734  6.584278  3.415270  2.606602  ...  0.808913  0.444905  0.605348\n",
       "\n",
       "[42000 rows x 12 columns]"
      ]
     },
     "execution_count": 8,
     "metadata": {},
     "output_type": "execute_result"
    }
   ],
   "source": [
    "x_train, x_test, y_train, y_test = preprocess_inputs(df, task=\"classification\")\n",
    "x_train"
   ]
  },
  {
   "cell_type": "code",
   "execution_count": 9,
   "id": "1f505d53",
   "metadata": {
    "execution": {
     "iopub.execute_input": "2024-12-05T09:02:00.425008Z",
     "iopub.status.busy": "2024-12-05T09:02:00.424571Z",
     "iopub.status.idle": "2024-12-05T09:02:00.433180Z",
     "shell.execute_reply": "2024-12-05T09:02:00.432054Z"
    },
    "papermill": {
     "duration": 0.017177,
     "end_time": "2024-12-05T09:02:00.435932",
     "exception": false,
     "start_time": "2024-12-05T09:02:00.418755",
     "status": "completed"
    },
    "tags": []
   },
   "outputs": [
    {
     "data": {
      "text/plain": [
       "50049    0\n",
       "42117    1\n",
       "20378    0\n",
       "17121    1\n",
       "22484    0\n",
       "        ..\n",
       "54370    0\n",
       "17730    0\n",
       "28030    0\n",
       "15725    0\n",
       "52734    0\n",
       "Name: stabf, Length: 42000, dtype: int64"
      ]
     },
     "execution_count": 9,
     "metadata": {},
     "output_type": "execute_result"
    }
   ],
   "source": [
    "y_train"
   ]
  },
  {
   "cell_type": "code",
   "execution_count": 10,
   "id": "a4fb89df",
   "metadata": {
    "execution": {
     "iopub.execute_input": "2024-12-05T09:02:00.467049Z",
     "iopub.status.busy": "2024-12-05T09:02:00.466630Z",
     "iopub.status.idle": "2024-12-05T09:02:00.475310Z",
     "shell.execute_reply": "2024-12-05T09:02:00.474167Z"
    },
    "papermill": {
     "duration": 0.016972,
     "end_time": "2024-12-05T09:02:00.477771",
     "exception": false,
     "start_time": "2024-12-05T09:02:00.460799",
     "status": "completed"
    },
    "tags": []
   },
   "outputs": [
    {
     "data": {
      "text/plain": [
       "29561    0\n",
       "26640    0\n",
       "24498    0\n",
       "24594    0\n",
       "24249    0\n",
       "        ..\n",
       "59393    1\n",
       "21497    1\n",
       "18948    1\n",
       "24384    0\n",
       "48300    1\n",
       "Name: stabf, Length: 18000, dtype: int64"
      ]
     },
     "execution_count": 10,
     "metadata": {},
     "output_type": "execute_result"
    }
   ],
   "source": [
    "y_test"
   ]
  },
  {
   "cell_type": "code",
   "execution_count": 11,
   "id": "2ec4241d",
   "metadata": {
    "execution": {
     "iopub.execute_input": "2024-12-05T09:02:00.489544Z",
     "iopub.status.busy": "2024-12-05T09:02:00.489140Z",
     "iopub.status.idle": "2024-12-05T09:02:01.134421Z",
     "shell.execute_reply": "2024-12-05T09:02:01.132381Z"
    },
    "papermill": {
     "duration": 0.654338,
     "end_time": "2024-12-05T09:02:01.137342",
     "exception": false,
     "start_time": "2024-12-05T09:02:00.483004",
     "status": "completed"
    },
    "tags": []
   },
   "outputs": [
    {
     "name": "stdout",
     "output_type": "stream",
     "text": [
      "Classifier Trained\n"
     ]
    }
   ],
   "source": [
    "clf = SVC()\n",
    "clf.fit(x_train, y_train)\n",
    "print(\"Classifier Trained\")"
   ]
  },
  {
   "cell_type": "code",
   "execution_count": 13,
   "id": "5f91a0f4",
   "metadata": {
    "execution": {
     "iopub.execute_input": "2024-12-05T09:02:01.153333Z",
     "iopub.status.busy": "2024-12-05T09:02:01.152291Z",
     "iopub.status.idle": "2024-12-05T09:02:01.213099Z",
     "shell.execute_reply": "2024-12-05T09:02:01.211897Z"
    },
    "papermill": {
     "duration": 0.071314,
     "end_time": "2024-12-05T09:02:01.215453",
     "exception": false,
     "start_time": "2024-12-05T09:02:01.144139",
     "status": "completed"
    },
    "tags": []
   },
   "outputs": [
    {
     "name": "stdout",
     "output_type": "stream",
     "text": [
      "The Classification Score 0.9290555555555555\n",
      "Confusion matrix :  [[11007   493]\n",
      " [  784  5716]]\n",
      "Precisioin :  0.9205991302947335\n",
      "Recall :  0.8793846153846154\n"
     ]
    }
   ],
   "source": [
    "print(\"The Classification Score\", clf.score(x_test, y_test))\n",
    "y_pred = clf.predict(x_test)\n",
    "print(\"Confusion matrix : \", confusion_matrix(y_true=y_test, y_pred=y_pred))\n",
    "print(\"Precisioin : \", precision_score(y_test, y_pred))\n",
    "print(\"Recall : \", recall_score(y_test, y_pred))"
   ]
  },
  {
   "cell_type": "code",
   "execution_count": 10,
   "id": "ce7685c3",
   "metadata": {
    "execution": {
     "iopub.execute_input": "2024-12-05T09:02:01.232031Z",
     "iopub.status.busy": "2024-12-05T09:02:01.230818Z",
     "iopub.status.idle": "2024-12-05T09:02:01.280077Z",
     "shell.execute_reply": "2024-12-05T09:02:01.278632Z"
    },
    "papermill": {
     "duration": 0.06022,
     "end_time": "2024-12-05T09:02:01.282611",
     "exception": false,
     "start_time": "2024-12-05T09:02:01.222391",
     "status": "completed"
    },
    "tags": []
   },
   "outputs": [
    {
     "data": {
      "text/html": [
       "<div>\n",
       "<style scoped>\n",
       "    .dataframe tbody tr th:only-of-type {\n",
       "        vertical-align: middle;\n",
       "    }\n",
       "\n",
       "    .dataframe tbody tr th {\n",
       "        vertical-align: top;\n",
       "    }\n",
       "\n",
       "    .dataframe thead th {\n",
       "        text-align: right;\n",
       "    }\n",
       "</style>\n",
       "<table border=\"1\" class=\"dataframe\">\n",
       "  <thead>\n",
       "    <tr style=\"text-align: right;\">\n",
       "      <th></th>\n",
       "      <th>tau1</th>\n",
       "      <th>tau2</th>\n",
       "      <th>tau3</th>\n",
       "      <th>tau4</th>\n",
       "      <th>p1</th>\n",
       "      <th>p2</th>\n",
       "      <th>p3</th>\n",
       "      <th>p4</th>\n",
       "      <th>g1</th>\n",
       "      <th>g2</th>\n",
       "      <th>g3</th>\n",
       "      <th>g4</th>\n",
       "    </tr>\n",
       "  </thead>\n",
       "  <tbody>\n",
       "    <tr>\n",
       "      <th>50049</th>\n",
       "      <td>9.818128</td>\n",
       "      <td>8.588987</td>\n",
       "      <td>0.511597</td>\n",
       "      <td>5.260072</td>\n",
       "      <td>3.395636</td>\n",
       "      <td>-1.478677</td>\n",
       "      <td>-1.107857</td>\n",
       "      <td>-0.809102</td>\n",
       "      <td>0.931287</td>\n",
       "      <td>0.291643</td>\n",
       "      <td>0.599963</td>\n",
       "      <td>0.384295</td>\n",
       "    </tr>\n",
       "    <tr>\n",
       "      <th>42117</th>\n",
       "      <td>2.988689</td>\n",
       "      <td>0.532388</td>\n",
       "      <td>1.456258</td>\n",
       "      <td>9.804672</td>\n",
       "      <td>4.992851</td>\n",
       "      <td>-1.899322</td>\n",
       "      <td>-1.336375</td>\n",
       "      <td>-1.757154</td>\n",
       "      <td>0.945929</td>\n",
       "      <td>0.407395</td>\n",
       "      <td>0.236469</td>\n",
       "      <td>0.947458</td>\n",
       "    </tr>\n",
       "    <tr>\n",
       "      <th>20378</th>\n",
       "      <td>5.936029</td>\n",
       "      <td>9.336081</td>\n",
       "      <td>1.988640</td>\n",
       "      <td>1.907732</td>\n",
       "      <td>4.433782</td>\n",
       "      <td>-1.324150</td>\n",
       "      <td>-1.417504</td>\n",
       "      <td>-1.692128</td>\n",
       "      <td>0.452766</td>\n",
       "      <td>0.882208</td>\n",
       "      <td>0.159555</td>\n",
       "      <td>0.243988</td>\n",
       "    </tr>\n",
       "    <tr>\n",
       "      <th>17121</th>\n",
       "      <td>5.001385</td>\n",
       "      <td>3.720948</td>\n",
       "      <td>3.111653</td>\n",
       "      <td>8.465773</td>\n",
       "      <td>3.239639</td>\n",
       "      <td>-0.903370</td>\n",
       "      <td>-0.836304</td>\n",
       "      <td>-1.499965</td>\n",
       "      <td>0.129207</td>\n",
       "      <td>0.500248</td>\n",
       "      <td>0.863418</td>\n",
       "      <td>0.075551</td>\n",
       "    </tr>\n",
       "    <tr>\n",
       "      <th>22484</th>\n",
       "      <td>2.284157</td>\n",
       "      <td>4.881570</td>\n",
       "      <td>5.095673</td>\n",
       "      <td>8.647201</td>\n",
       "      <td>3.375693</td>\n",
       "      <td>-1.920184</td>\n",
       "      <td>-0.630081</td>\n",
       "      <td>-0.825428</td>\n",
       "      <td>0.477917</td>\n",
       "      <td>0.446620</td>\n",
       "      <td>0.773091</td>\n",
       "      <td>0.424167</td>\n",
       "    </tr>\n",
       "    <tr>\n",
       "      <th>...</th>\n",
       "      <td>...</td>\n",
       "      <td>...</td>\n",
       "      <td>...</td>\n",
       "      <td>...</td>\n",
       "      <td>...</td>\n",
       "      <td>...</td>\n",
       "      <td>...</td>\n",
       "      <td>...</td>\n",
       "      <td>...</td>\n",
       "      <td>...</td>\n",
       "      <td>...</td>\n",
       "      <td>...</td>\n",
       "    </tr>\n",
       "    <tr>\n",
       "      <th>54370</th>\n",
       "      <td>5.701267</td>\n",
       "      <td>6.684273</td>\n",
       "      <td>9.601239</td>\n",
       "      <td>1.441566</td>\n",
       "      <td>2.855926</td>\n",
       "      <td>-0.966439</td>\n",
       "      <td>-0.772487</td>\n",
       "      <td>-1.117001</td>\n",
       "      <td>0.767515</td>\n",
       "      <td>0.141450</td>\n",
       "      <td>0.825274</td>\n",
       "      <td>0.681713</td>\n",
       "    </tr>\n",
       "    <tr>\n",
       "      <th>17730</th>\n",
       "      <td>6.962724</td>\n",
       "      <td>5.720939</td>\n",
       "      <td>3.331487</td>\n",
       "      <td>3.904860</td>\n",
       "      <td>4.653462</td>\n",
       "      <td>-1.254036</td>\n",
       "      <td>-1.608298</td>\n",
       "      <td>-1.791128</td>\n",
       "      <td>0.207566</td>\n",
       "      <td>0.925921</td>\n",
       "      <td>0.999739</td>\n",
       "      <td>0.635747</td>\n",
       "    </tr>\n",
       "    <tr>\n",
       "      <th>28030</th>\n",
       "      <td>6.763179</td>\n",
       "      <td>4.443784</td>\n",
       "      <td>5.772680</td>\n",
       "      <td>8.344345</td>\n",
       "      <td>4.390494</td>\n",
       "      <td>-1.586663</td>\n",
       "      <td>-0.817729</td>\n",
       "      <td>-1.986103</td>\n",
       "      <td>0.449443</td>\n",
       "      <td>0.276032</td>\n",
       "      <td>0.990190</td>\n",
       "      <td>0.785749</td>\n",
       "    </tr>\n",
       "    <tr>\n",
       "      <th>15725</th>\n",
       "      <td>4.542570</td>\n",
       "      <td>5.302279</td>\n",
       "      <td>1.487013</td>\n",
       "      <td>6.115917</td>\n",
       "      <td>3.317675</td>\n",
       "      <td>-1.656348</td>\n",
       "      <td>-0.568968</td>\n",
       "      <td>-1.092359</td>\n",
       "      <td>0.279099</td>\n",
       "      <td>0.486512</td>\n",
       "      <td>0.411925</td>\n",
       "      <td>0.963123</td>\n",
       "    </tr>\n",
       "    <tr>\n",
       "      <th>52734</th>\n",
       "      <td>6.584278</td>\n",
       "      <td>3.415270</td>\n",
       "      <td>2.606602</td>\n",
       "      <td>5.865312</td>\n",
       "      <td>3.537674</td>\n",
       "      <td>-1.100446</td>\n",
       "      <td>-0.595687</td>\n",
       "      <td>-1.841542</td>\n",
       "      <td>0.248848</td>\n",
       "      <td>0.808913</td>\n",
       "      <td>0.444905</td>\n",
       "      <td>0.605348</td>\n",
       "    </tr>\n",
       "  </tbody>\n",
       "</table>\n",
       "<p>42000 rows × 12 columns</p>\n",
       "</div>"
      ],
      "text/plain": [
       "           tau1      tau2      tau3      tau4        p1        p2        p3  \\\n",
       "50049  9.818128  8.588987  0.511597  5.260072  3.395636 -1.478677 -1.107857   \n",
       "42117  2.988689  0.532388  1.456258  9.804672  4.992851 -1.899322 -1.336375   \n",
       "20378  5.936029  9.336081  1.988640  1.907732  4.433782 -1.324150 -1.417504   \n",
       "17121  5.001385  3.720948  3.111653  8.465773  3.239639 -0.903370 -0.836304   \n",
       "22484  2.284157  4.881570  5.095673  8.647201  3.375693 -1.920184 -0.630081   \n",
       "...         ...       ...       ...       ...       ...       ...       ...   \n",
       "54370  5.701267  6.684273  9.601239  1.441566  2.855926 -0.966439 -0.772487   \n",
       "17730  6.962724  5.720939  3.331487  3.904860  4.653462 -1.254036 -1.608298   \n",
       "28030  6.763179  4.443784  5.772680  8.344345  4.390494 -1.586663 -0.817729   \n",
       "15725  4.542570  5.302279  1.487013  6.115917  3.317675 -1.656348 -0.568968   \n",
       "52734  6.584278  3.415270  2.606602  5.865312  3.537674 -1.100446 -0.595687   \n",
       "\n",
       "             p4        g1        g2        g3        g4  \n",
       "50049 -0.809102  0.931287  0.291643  0.599963  0.384295  \n",
       "42117 -1.757154  0.945929  0.407395  0.236469  0.947458  \n",
       "20378 -1.692128  0.452766  0.882208  0.159555  0.243988  \n",
       "17121 -1.499965  0.129207  0.500248  0.863418  0.075551  \n",
       "22484 -0.825428  0.477917  0.446620  0.773091  0.424167  \n",
       "...         ...       ...       ...       ...       ...  \n",
       "54370 -1.117001  0.767515  0.141450  0.825274  0.681713  \n",
       "17730 -1.791128  0.207566  0.925921  0.999739  0.635747  \n",
       "28030 -1.986103  0.449443  0.276032  0.990190  0.785749  \n",
       "15725 -1.092359  0.279099  0.486512  0.411925  0.963123  \n",
       "52734 -1.841542  0.248848  0.808913  0.444905  0.605348  \n",
       "\n",
       "[42000 rows x 12 columns]"
      ]
     },
     "execution_count": 10,
     "metadata": {},
     "output_type": "execute_result"
    }
   ],
   "source": [
    "x_train, x_test, y_train, y_test = preprocess_inputs(df, task=\"regression\")\n",
    "x_train"
   ]
  },
  {
   "cell_type": "code",
   "execution_count": 11,
   "id": "71a27d4b",
   "metadata": {
    "execution": {
     "iopub.execute_input": "2024-12-05T09:02:01.295816Z",
     "iopub.status.busy": "2024-12-05T09:02:01.295399Z",
     "iopub.status.idle": "2024-12-05T09:02:01.304627Z",
     "shell.execute_reply": "2024-12-05T09:02:01.303297Z"
    },
    "papermill": {
     "duration": 0.018541,
     "end_time": "2024-12-05T09:02:01.307428",
     "exception": false,
     "start_time": "2024-12-05T09:02:01.288887",
     "status": "completed"
    },
    "tags": []
   },
   "outputs": [
    {
     "data": {
      "text/plain": [
       "50049    0.011189\n",
       "42117   -0.023532\n",
       "20378    0.014560\n",
       "17121   -0.025091\n",
       "22484    0.027030\n",
       "           ...   \n",
       "54370    0.022260\n",
       "17730    0.072665\n",
       "28030    0.072647\n",
       "15725    0.034689\n",
       "52734    0.026553\n",
       "Name: stab, Length: 42000, dtype: float64"
      ]
     },
     "execution_count": 11,
     "metadata": {},
     "output_type": "execute_result"
    }
   ],
   "source": [
    "y_train"
   ]
  },
  {
   "cell_type": "code",
   "execution_count": 15,
   "id": "d067c435",
   "metadata": {
    "execution": {
     "iopub.execute_input": "2024-12-05T09:02:01.322165Z",
     "iopub.status.busy": "2024-12-05T09:02:01.321736Z",
     "iopub.status.idle": "2024-12-05T09:02:02.034262Z",
     "shell.execute_reply": "2024-12-05T09:02:02.033428Z"
    },
    "papermill": {
     "duration": 0.721623,
     "end_time": "2024-12-05T09:02:02.036636",
     "exception": false,
     "start_time": "2024-12-05T09:02:01.315013",
     "status": "completed"
    },
    "tags": []
   },
   "outputs": [
    {
     "name": "stdout",
     "output_type": "stream",
     "text": [
      "model Trained\n"
     ]
    }
   ],
   "source": [
    "x_train, x_test, y_train, y_test = preprocess_inputs(df, task=\"regression\")\n",
    "reg = SVR()\n",
    "reg.fit(x_train, y_train)\n",
    "print(\"model Trained\")"
   ]
  },
  {
   "cell_type": "code",
   "execution_count": 17,
   "id": "dae6fe0d",
   "metadata": {
    "execution": {
     "iopub.execute_input": "2024-12-05T09:02:02.049736Z",
     "iopub.status.busy": "2024-12-05T09:02:02.048843Z",
     "iopub.status.idle": "2024-12-05T09:02:02.079204Z",
     "shell.execute_reply": "2024-12-05T09:02:02.078292Z"
    },
    "papermill": {
     "duration": 0.039525,
     "end_time": "2024-12-05T09:02:02.081604",
     "exception": false,
     "start_time": "2024-12-05T09:02:02.042079",
     "status": "completed"
    },
    "tags": []
   },
   "outputs": [
    {
     "name": "stdout",
     "output_type": "stream",
     "text": [
      "Regression Score -0.0015794571310954186\n",
      "RMSE : 0.036963855199827866\n",
      "MAE  : 0.031349403371748755\n"
     ]
    }
   ],
   "source": [
    "print(\"Regression Score\", reg.score(x_test, y_test))\n",
    "y_pred = reg.predict(x_test)\n",
    "print(f\"RMSE : {root_mean_squared_error(y_test, y_pred)}\")\n",
    "print(f\"MAE  : {mean_absolute_error(y_test, y_pred)}\")"
   ]
  },
  {
   "cell_type": "code",
   "execution_count": null,
   "id": "25a7635c",
   "metadata": {},
   "outputs": [],
   "source": []
  }
 ],
 "metadata": {
  "kaggle": {
   "accelerator": "none",
   "dataSources": [
    {
     "datasetId": 645187,
     "sourceId": 1143699,
     "sourceType": "datasetVersion"
    }
   ],
   "dockerImageVersionId": 30786,
   "isGpuEnabled": false,
   "isInternetEnabled": false,
   "language": "python",
   "sourceType": "notebook"
  },
  "kernelspec": {
   "display_name": "venv",
   "language": "python",
   "name": "python3"
  },
  "language_info": {
   "codemirror_mode": {
    "name": "ipython",
    "version": 3
   },
   "file_extension": ".py",
   "mimetype": "text/x-python",
   "name": "python",
   "nbconvert_exporter": "python",
   "pygments_lexer": "ipython3",
   "version": "3.12.8"
  },
  "papermill": {
   "default_parameters": {},
   "duration": 8.752641,
   "end_time": "2024-12-05T09:02:02.721427",
   "environment_variables": {},
   "exception": null,
   "input_path": "__notebook__.ipynb",
   "output_path": "__notebook__.ipynb",
   "parameters": {},
   "start_time": "2024-12-05T09:01:53.968786",
   "version": "2.6.0"
  }
 },
 "nbformat": 4,
 "nbformat_minor": 5
}
